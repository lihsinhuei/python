{
 "cells": [
  {
   "cell_type": "code",
   "execution_count": 1,
   "metadata": {},
   "outputs": [
    {
     "name": "stdout",
     "output_type": "stream",
     "text": [
      "[{'domain': '.google.com.tw', 'expiry': 1522510150, 'httpOnly': False, 'name': '1P_JAR', 'path': '/', 'secure': False, 'value': '2018-3-1-15'}, {'domain': '.google.com.tw', 'expiry': 1535729349.172842, 'httpOnly': True, 'name': 'NID', 'path': '/', 'secure': False, 'value': '124=eETaYY2PRSsaLv7fgmD3SrZYPiSuhej7_lXotnj_FiUPK0SnhGHH33h3Hg5XtysoHYjPRjZ1Fg1HfHqzJrtRWOlCDVbnr0tRkc4mluEq8isVkefCE6pQXOkg9TFrMAgq'}]\n"
     ]
    }
   ],
   "source": [
    "import time\n",
    "import concurrent.futures\n",
    "import sys\n",
    "from selenium import webdriver\n",
    "from selenium.webdriver.common.keys import Keys\n",
    "from selenium.webdriver.common.proxy import Proxy\n",
    "from selenium.webdriver.common.proxy import ProxyType\n",
    "\n",
    "driver = webdriver.Chrome()\n",
    "driver.get(\"https://www.google.com\")\n",
    "cookies = driver.get_cookies() #取得自己的cookies\n",
    "\n",
    "print(cookies)"
   ]
  },
  {
   "cell_type": "code",
   "execution_count": 4,
   "metadata": {},
   "outputs": [],
   "source": [
    "cookies_set = [{'domain': '.google.com.tw', \n",
    "             'expiry': 1522510150, \n",
    "             'httpOnly': False, \n",
    "             'name': '1P_JAR', \n",
    "             'path': '/', 'secure': True,  #原本的是False 這裡把它改成True 做對照\n",
    "             'value': '2018-3-1-15'}, \n",
    "            {'domain': '.google.com.tw', \n",
    "             'expiry': 1535729349.172842, \n",
    "             'httpOnly': True, 'name': 'NID', \n",
    "             'path': '/', \n",
    "             'secure': True, #原本的是False 這裡把它改成True 做對照\n",
    "             'value': '124=eETaYY2PRSsaLv7fgmD3SrZYPiSuhej7_lXotnj_FiUPK0SnhGHH33h3Hg5XtysoHYjPRjZ1Fg1HfHqzJrtRWOlCDVbnr0tRkc4mluEq8isVkefCE6pQXOkg9TFrMAgq'}]\n",
    "\n"
   ]
  },
  {
   "cell_type": "code",
   "execution_count": 5,
   "metadata": {},
   "outputs": [
    {
     "data": {
      "text/plain": [
       "[{'domain': '.google.com.tw',\n",
       "  'expiry': 1535729349.172842,\n",
       "  'httpOnly': True,\n",
       "  'name': 'NID',\n",
       "  'path': '/',\n",
       "  'secure': True,\n",
       "  'value': '124=eETaYY2PRSsaLv7fgmD3SrZYPiSuhej7_lXotnj_FiUPK0SnhGHH33h3Hg5XtysoHYjPRjZ1Fg1HfHqzJrtRWOlCDVbnr0tRkc4mluEq8isVkefCE6pQXOkg9TFrMAgq'},\n",
       " {'domain': '.google.com.tw',\n",
       "  'expiry': 1522510150,\n",
       "  'httpOnly': False,\n",
       "  'name': '1P_JAR',\n",
       "  'path': '/',\n",
       "  'secure': True,\n",
       "  'value': '2018-3-1-15'}]"
      ]
     },
     "execution_count": 5,
     "metadata": {},
     "output_type": "execute_result"
    }
   ],
   "source": [
    "driver_new = webdriver.Chrome()\n",
    "driver_new.get(\"https://www.google.com\")\n",
    "driver_new.delete_all_cookies() #刪除原本的cookies\n",
    "for cookie in cookies_set:\n",
    "    driver_new.add_cookie(cookie) #加入新的cookies\n",
    "\n",
    "cookies_new = driver_new.get_cookies()\n",
    "cookies_new\n"
   ]
  },
  {
   "cell_type": "code",
   "execution_count": 6,
   "metadata": {},
   "outputs": [
    {
     "name": "stdout",
     "output_type": "stream",
     "text": [
      "[{'domain': '.google.com.tw', 'expiry': 1535729349.172842, 'httpOnly': True, 'name': 'NID', 'path': '/', 'secure': True, 'value': '124=eETaYY2PRSsaLv7fgmD3SrZYPiSuhej7_lXotnj_FiUPK0SnhGHH33h3Hg5XtysoHYjPRjZ1Fg1HfHqzJrtRWOlCDVbnr0tRkc4mluEq8isVkefCE6pQXOkg9TFrMAgq'}, {'domain': '.google.com.tw', 'expiry': 1522510150, 'httpOnly': False, 'name': '1P_JAR', 'path': '/', 'secure': True, 'value': '2018-3-1-15'}]\n"
     ]
    }
   ],
   "source": [
    "#同時換cookies\n",
    "ip = '61.220.26.97:80' #免費proxy ip \n",
    "\n",
    "chrome_options = webdriver.ChromeOptions()\n",
    "chrome_options.add_argument('--proxy-server=http://%s'%ip)\n",
    "driver3 = webdriver.Chrome(chrome_options=chrome_options)\n",
    "driver3.get(\"https://www.google.com\")\n",
    "old = driver3.get_cookies()\n",
    "driver3.delete_all_cookies()\n",
    "for cookie in cookies_set:\n",
    "    driver3.add_cookie(cookie)\n",
    "    \n",
    "print(driver3.get_cookies())\n",
    "\n"
   ]
  },
  {
   "cell_type": "code",
   "execution_count": 7,
   "metadata": {},
   "outputs": [
    {
     "name": "stdout",
     "output_type": "stream",
     "text": [
      "start time：2018-03-01 23:39:44\n",
      "end time：2018-03-01 23:39:54\n"
     ]
    }
   ],
   "source": [
    "#timestampe轉成人類看得懂的日期時間\n",
    "\n",
    "import time \n",
    "start = time.time()\n",
    "time.sleep(10)\n",
    "end = time.time()\n",
    "\n",
    "start_time= time.strftime('%Y-%m-%d %H:%M:%S',time.localtime(start))\n",
    "end_time= time.strftime('%Y-%m-%d %H:%M:%S',time.localtime(end))\n",
    "print(\"start time：\"+start_time)\n",
    "print(\"end time：\"+end_time)\n"
   ]
  },
  {
   "cell_type": "code",
   "execution_count": null,
   "metadata": {},
   "outputs": [],
   "source": []
  }
 ],
 "metadata": {
  "kernelspec": {
   "display_name": "Python 3",
   "language": "python",
   "name": "python3"
  },
  "language_info": {
   "codemirror_mode": {
    "name": "ipython",
    "version": 3
   },
   "file_extension": ".py",
   "mimetype": "text/x-python",
   "name": "python",
   "nbconvert_exporter": "python",
   "pygments_lexer": "ipython3",
   "version": "3.6.4"
  }
 },
 "nbformat": 4,
 "nbformat_minor": 2
}
