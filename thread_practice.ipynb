{
 "cells": [
  {
   "cell_type": "code",
   "execution_count": 1,
   "metadata": {},
   "outputs": [],
   "source": [
    "import threading\n",
    "import time \n",
    "from queue import Queue \n",
    "import pandas as pd"
   ]
  },
  {
   "cell_type": "code",
   "execution_count": 2,
   "metadata": {},
   "outputs": [
    {
     "name": "stdout",
     "output_type": "stream",
     "text": [
      "<Thread(Thread-4, started 123145408290816)>\n",
      "<Thread(Thread-5, started 123145413545984)>\n",
      "<Thread(Thread-6, started 123145408290816)>\n",
      "<Thread(Thread-7, started 123145408290816)>\n",
      "<Thread(Thread-8, started 123145408290816)>\n",
      "all done\n",
      "5\n",
      "5\n",
      "['花蓮詠春拳研習館hi', '春和泡湯hi', '優質健身會館崇明館hi', '赤水坡hi', 'Curves 基隆信一店hi']\n",
      "[<_MainThread(MainThread, started 140736270681024)>, <Thread(Thread-2, started daemon 123145386196992)>, <Heartbeat(Thread-3, started daemon 123145391452160)>, <HistorySavingThread(IPythonHistorySavingThread, started 123145397780480)>, <ParentPollerUnix(Thread-1, started daemon 123145403035648)>]\n"
     ]
    }
   ],
   "source": [
    "def test(store_name,q_result):\n",
    "    q_result.put(store_name+\"hi\")\n",
    "    print(threading.current_thread())\n",
    "\n",
    "def multithreading(store_names):\n",
    "    q = Queue(maxsize=0) #一開始放店名的queue\n",
    "    q_result = Queue() #最終放Json的queue\n",
    "    for store_name in store_names:\n",
    "        q.put(store_name)  #把store_name放進queue\n",
    "    threads = []\n",
    "    thread_amount = 5 #預計開5個thread\n",
    "    for i in range(0,thread_amount):  #開thread\n",
    "        store_name = q.get()\n",
    "        t = threading.Thread(target=test,args=(store_name,q_result)) #定義thread\n",
    "        t.start()\n",
    "        threads.append(t)\n",
    "        \n",
    "        \n",
    "    for thread in threads:\n",
    "        thread.join()\n",
    "    print(\"all done\")\n",
    "    json_list = []\n",
    "    print(q_result.qsize())\n",
    "    for _ in range (0,q_result.qsize()):\n",
    "        json_list.append(q_result.get()) #按順序從q_result裡面拿出json\n",
    "    print(len(json_list))\n",
    "    print(json_list)\n",
    "    print(threading.enumerate())\n",
    "          \n",
    "if __name__ == '__main__': \n",
    "    data = pd.read_csv(\"/Users/lihsinhuei/project/googlelist\")\n",
    "    store_names = pd.Series.tolist(data['name'])\n",
    "    multithreading(store_names)      \n",
    "    \n",
    "    "
   ]
  },
  {
   "cell_type": "code",
   "execution_count": null,
   "metadata": {},
   "outputs": [],
   "source": []
  },
  {
   "cell_type": "code",
   "execution_count": null,
   "metadata": {},
   "outputs": [],
   "source": []
  }
 ],
 "metadata": {
  "kernelspec": {
   "display_name": "Python 3",
   "language": "python",
   "name": "python3"
  },
  "language_info": {
   "codemirror_mode": {
    "name": "ipython",
    "version": 3
   },
   "file_extension": ".py",
   "mimetype": "text/x-python",
   "name": "python",
   "nbconvert_exporter": "python",
   "pygments_lexer": "ipython3",
   "version": "3.6.4"
  }
 },
 "nbformat": 4,
 "nbformat_minor": 2
}
